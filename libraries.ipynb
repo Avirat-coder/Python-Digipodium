{
 "cells": [
  {
   "cell_type": "code",
   "execution_count": 24,
   "metadata": {},
   "outputs": [],
   "source": [
    "import math"
   ]
  },
  {
   "cell_type": "code",
   "execution_count": 25,
   "metadata": {},
   "outputs": [
    {
     "name": "stdout",
     "output_type": "stream",
     "text": [
      "4.47213595499958\n",
      "120\n",
      "3.141592653589793\n",
      "2.302585092994046\n",
      "10\n",
      "0.8939966636005579\n"
     ]
    }
   ],
   "source": [
    "print(math.sqrt(20))\n",
    "print(math.factorial(5))\n",
    "print(math.pi)\n",
    "print(math.log(10))\n",
    "print(math.gcd(10,20))\n",
    "print(math.sin(90))"
   ]
  },
  {
   "cell_type": "code",
   "execution_count": 26,
   "metadata": {},
   "outputs": [],
   "source": [
    "from random import random,randint,choice,shuffle\n"
   ]
  },
  {
   "cell_type": "code",
   "execution_count": 27,
   "metadata": {},
   "outputs": [
    {
     "name": "stdout",
     "output_type": "stream",
     "text": [
      "0.3044009857737776\n",
      "16\n"
     ]
    }
   ],
   "source": [
    "import random\n",
    "print(random.random())\n",
    "print(random.randint(10,20))\n"
   ]
  },
  {
   "cell_type": "code",
   "execution_count": 28,
   "metadata": {},
   "outputs": [
    {
     "name": "stdout",
     "output_type": "stream",
     "text": [
      "None\n",
      "[9, 10, 3, 2, 7, 8, 6, 4, 5, 1]\n"
     ]
    }
   ],
   "source": [
    "import random\n",
    "a=[1,2,3,4,5,6,7,8,9,10]\n",
    "print(random.shuffle(a))\n",
    "print(a)\n",
    "\n",
    "\n"
   ]
  },
  {
   "cell_type": "code",
   "execution_count": 29,
   "metadata": {},
   "outputs": [],
   "source": [
    "from datetime import datetime as dt\n"
   ]
  },
  {
   "cell_type": "code",
   "execution_count": 30,
   "metadata": {},
   "outputs": [
    {
     "name": "stdout",
     "output_type": "stream",
     "text": [
      "Current Year and Time: 2025-05-01 01:48:00.591809\n"
     ]
    }
   ],
   "source": [
    "print(\"Current Year and Time:\",dt.now())"
   ]
  },
  {
   "cell_type": "code",
   "execution_count": 31,
   "metadata": {},
   "outputs": [
    {
     "name": "stdout",
     "output_type": "stream",
     "text": [
      "Current Year: 2025\n"
     ]
    }
   ],
   "source": [
    "print(\"Current Year:\",dt.now().year)"
   ]
  },
  {
   "cell_type": "code",
   "execution_count": 32,
   "metadata": {},
   "outputs": [
    {
     "name": "stdout",
     "output_type": "stream",
     "text": [
      "Current Year 2025\n",
      "Current Month 5\n",
      "Current day: 1\n",
      "Current hour: 1\n",
      "Current minute: 48\n",
      "Current second: 0\n"
     ]
    }
   ],
   "source": [
    "print(\"Current Year\",dt.now().year)\n",
    "print(\"Current Month\",dt.now().month)\n",
    "print(\"Current day:\",dt.now().day)\n",
    "print(\"Current hour:\",dt.now().hour)\n",
    "print(\"Current minute:\",dt.now().minute)\n",
    "print(\"Current second:\",dt.now().second)"
   ]
  },
  {
   "cell_type": "code",
   "execution_count": 33,
   "metadata": {},
   "outputs": [
    {
     "name": "stdout",
     "output_type": "stream",
     "text": [
      "Current day name: Thursday\n",
      "Current month name: May\n",
      "Current year name: Thu\n"
     ]
    }
   ],
   "source": [
    "print (\"Current day name:\",dt.now().strftime(\"%A\"))\n",
    "print (\"Current month name:\",dt.now().strftime(\"%B\"))\n",
    "print (\"Current year name:\",dt.now().strftime(\"%a\"))"
   ]
  },
  {
   "cell_type": "code",
   "execution_count": 34,
   "metadata": {},
   "outputs": [],
   "source": [
    "import os"
   ]
  },
  {
   "cell_type": "code",
   "execution_count": 35,
   "metadata": {},
   "outputs": [
    {
     "name": "stdout",
     "output_type": "stream",
     "text": [
      "Current working directory: d:\\Python Digipodium\n"
     ]
    }
   ],
   "source": [
    "print(\"Current working directory:\",os.getcwd())"
   ]
  },
  {
   "cell_type": "code",
   "execution_count": 36,
   "metadata": {},
   "outputs": [
    {
     "name": "stdout",
     "output_type": "stream",
     "text": [
      "files in current directory: ['.git', 'Analysis', 'condition.ipynb', 'Data Structures', 'datatypes.ipynb', 'functions.ipynb', 'libraries.ipynb', 'loops.ipynb', 'operators.ipynb', 'Practise Sets', 'visualization']\n",
      "11 files found\n"
     ]
    }
   ],
   "source": [
    "files=os.listdir()\n",
    "print(\"files in current directory:\",files)\n",
    "print(len(files),\"files found\")"
   ]
  },
  {
   "cell_type": "code",
   "execution_count": 37,
   "metadata": {},
   "outputs": [
    {
     "ename": "SyntaxError",
     "evalue": "invalid syntax. Perhaps you forgot a comma? (1911494893.py, line 1)",
     "output_type": "error",
     "traceback": [
      "\u001b[1;36m  Cell \u001b[1;32mIn[37], line 1\u001b[1;36m\u001b[0m\n\u001b[1;33m    files=os.listdir(r\"C:\"C:\\Users\\Avirat Pal\\Downloads\\Adobe Photoshop CC 2015 (20150529.r.88) (32+64Bit) + Crack\"]\")\u001b[0m\n\u001b[1;37m                     ^\u001b[0m\n\u001b[1;31mSyntaxError\u001b[0m\u001b[1;31m:\u001b[0m invalid syntax. Perhaps you forgot a comma?\n"
     ]
    }
   ],
   "source": [
    "files=os.listdir(r\"C:\"C:\\Users\\Avirat Pal\\Downloads\\Adobe Photoshop CC 2015 (20150529.r.88) (32+64Bit) + Crack\"]\")\n",
    "print(\"Files in current directory:\",files)"
   ]
  },
  {
   "cell_type": "code",
   "execution_count": null,
   "metadata": {},
   "outputs": [
    {
     "ename": "NameError",
     "evalue": "name 'os' is not defined",
     "output_type": "error",
     "traceback": [
      "\u001b[1;31m---------------------------------------------------------------------------\u001b[0m",
      "\u001b[1;31mNameError\u001b[0m                                 Traceback (most recent call last)",
      "Cell \u001b[1;32mIn[5], line 2\u001b[0m\n\u001b[0;32m      1\u001b[0m total_files \u001b[38;5;241m=\u001b[39m \u001b[38;5;241m0\u001b[39m\n\u001b[1;32m----> 2\u001b[0m \u001b[38;5;28;01mfor\u001b[39;00m path,folder,files \u001b[38;5;129;01min\u001b[39;00m \u001b[43mos\u001b[49m\u001b[38;5;241m.\u001b[39mwalk(\u001b[38;5;124m\"\u001b[39m\u001b[38;5;124mc:\u001b[39m\u001b[38;5;124m\"\u001b[39m):\n\u001b[0;32m      3\u001b[0m     \u001b[38;5;28mprint\u001b[39m(\u001b[38;5;124m\"\u001b[39m\u001b[38;5;124mpath - \u001b[39m\u001b[38;5;124m\"\u001b[39m,path)\n\u001b[0;32m      4\u001b[0m     \u001b[38;5;28mprint\u001b[39m(\u001b[38;5;124m\"\u001b[39m\u001b[38;5;124mfolder - \u001b[39m\u001b[38;5;124m\"\u001b[39m,folder)\n",
      "\u001b[1;31mNameError\u001b[0m: name 'os' is not defined"
     ]
    }
   ],
   "source": [
    "total_files = 0\n",
    "for path,folder,files in os.walk(\"c:\"):\n",
    "    print(\"path - \",path)\n",
    "    print(\"folder - \",folder)\n",
    "    print(\"files - \",files)\n",
    "    total_files +=len(files)\n",
    "print(\"Total files found:\",total_files)    "
   ]
  },
  {
   "cell_type": "code",
   "execution_count": null,
   "metadata": {},
   "outputs": [],
   "source": [
    "file = r\"C:\\Users\\Avirat Pal\\Downloads\\CourseCurriculum (27).pdf\"\"Data Structures\"\n",
    "if os.path.exists(\"file\"):\n",
    "    print(\"File exists\")\n",
    "    size=os.path.getsize(file)\n",
    "    print(\"Folder size:\",size/1024,\"KB\")\n",
    "    print(\"Folder Size:\",size/1024/1024,\"MB\")\n",
    "    print(\"Folder size:\",size/1024/1024/1024,\"GB\")\n"
   ]
  }
 ],
 "metadata": {
  "kernelspec": {
   "display_name": "base",
   "language": "python",
   "name": "python3"
  },
  "language_info": {
   "codemirror_mode": {
    "name": "ipython",
    "version": 3
   },
   "file_extension": ".py",
   "mimetype": "text/x-python",
   "name": "python",
   "nbconvert_exporter": "python",
   "pygments_lexer": "ipython3",
   "version": "3.12.9"
  }
 },
 "nbformat": 4,
 "nbformat_minor": 2
}
