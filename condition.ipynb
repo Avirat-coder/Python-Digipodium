{
 "cells": [
  {
   "cell_type": "code",
   "execution_count": 3,
   "metadata": {},
   "outputs": [
    {
     "name": "stdout",
     "output_type": "stream",
     "text": [
      "A\n",
      "B\n"
     ]
    }
   ],
   "source": [
    "marks = 87\n",
    "if marks >=90:\n",
    "    print(\"A+\")\n",
    "if marks >=75:\n",
    "    print(\"A\")    \n",
    "if marks >=60:\n",
    "    print(\"B\")\n",
    "if marks < 60:\n",
    "    print(\"Fail\")"
   ]
  },
  {
   "cell_type": "code",
   "execution_count": 10,
   "metadata": {},
   "outputs": [
    {
     "name": "stdout",
     "output_type": "stream",
     "text": [
      "A\n"
     ]
    }
   ],
   "source": [
    "marks = 87\n",
    "if marks >=90:\n",
    "    print(\"A+\")\n",
    "elif marks >=75:\n",
    "    print(\"A\")    \n",
    "elif marks >=60:\n",
    "    print(\"B\")\n",
    "elif marks < 60:\n",
    "    print(\"Fail\")\n",
    "else:\n",
    "    print(\"Invalid Marks\")"
   ]
  },
  {
   "cell_type": "code",
   "execution_count": 3,
   "metadata": {},
   "outputs": [
    {
     "name": "stdout",
     "output_type": "stream",
     "text": [
      "Number is negative\n"
     ]
    }
   ],
   "source": [
    "a=int(input(\"Enter any number\"))\n",
    "if(a>0):\n",
    "    print(\"Number is positive\")\n",
    "elif(a<0):\n",
    "    print(\"Number is negative\") \n",
    "     \n",
    "    \n",
    "\n"
   ]
  },
  {
   "cell_type": "code",
   "execution_count": 5,
   "metadata": {},
   "outputs": [
    {
     "name": "stdout",
     "output_type": "stream",
     "text": [
      "Number is even\n"
     ]
    }
   ],
   "source": [
    "a=int(input(\"Enter any number\"))\n",
    "if(a%2==0):\n",
    "    print(\"Number is even\")\n",
    "else:\n",
    "     print(\"Number is odd\")    "
   ]
  },
  {
   "cell_type": "code",
   "execution_count": 8,
   "metadata": {},
   "outputs": [
    {
     "name": "stdout",
     "output_type": "stream",
     "text": [
      "They are equal\n"
     ]
    }
   ],
   "source": [
    "a=int(input(\"Enter line segment of first line\"))\n",
    "b=int(input(\"Enter line segment of second line\"))\n",
    "if(a==b):\n",
    "    print(\"They are equal\")\n",
    "else:\n",
    "    print(\"Not Equal\")    \n"
   ]
  },
  {
   "cell_type": "code",
   "execution_count": 1,
   "metadata": {},
   "outputs": [
    {
     "name": "stdout",
     "output_type": "stream",
     "text": [
      "Triangle is Isosceles \n"
     ]
    }
   ],
   "source": [
    "a=int(input(\"Enter length of first triangle\"))\n",
    "b=int(input(\"Enter length of first triangle\"))\n",
    "c=int(input(\"Enter length of first triangle\"))\n",
    "if(a==b==c):\n",
    "    print(\"Triangle is Equilateral\")\n",
    "elif(\"a==b\" or \"b==c\" or \"a==c\"):\n",
    "    print(\"Triangle is Isosceles \")\n",
    "else:\n",
    "    print(\"Triangle is scalene\")    \n"
   ]
  },
  {
   "cell_type": "code",
   "execution_count": 12,
   "metadata": {},
   "outputs": [
    {
     "name": "stdout",
     "output_type": "stream",
     "text": [
      "Hurray!Registered Successfully\n"
     ]
    }
   ],
   "source": [
    "username  = input(\"Enter the username\")\n",
    "email =input(\"Enter the email:\")\n",
    "password=input(\"Enter the password\")\n",
    "cpass = input(\"Re-enter the password\")\n",
    "if len(username)>5 and len(username)<15:\n",
    "    if '@' in email and len(email)>10:\n",
    "        if len(password)>5 and len(password)<=10:\n",
    "            if password ==cpass:\n",
    "                print(\"Hurray!Registered Successfully\")\n",
    "            else:\n",
    "                print(\"Password Mismatched\")\n",
    "        else:\n",
    "            print(\"Incorrect Password\")  \n",
    "    else:\n",
    "        (\"Invalid Email\")\n",
    "else :\n",
    "    print(\"Invalid Username\")         \n"
   ]
  },
  {
   "cell_type": "code",
   "execution_count": null,
   "metadata": {},
   "outputs": [
    {
     "name": "stdout",
     "output_type": "stream",
     "text": [
      "Palindrome\n",
      "Not a Palindrome\n"
     ]
    }
   ],
   "source": [
    "n=121\n",
    "rev=0\n",
    "temp=n\n",
    "while n>0:\n",
    " rem=n%10\n",
    " rev=(rev*10)+rem\n",
    " n//=10\n",
    " if(rev==temp):\n",
    "    print(\"Palindrome\")\n",
    "else:\n",
    "    print (\"Not a Palindrome\")    "
   ]
  },
  {
   "cell_type": "code",
   "execution_count": 54,
   "metadata": {},
   "outputs": [
    {
     "name": "stdout",
     "output_type": "stream",
     "text": [
      "Armstrong\n"
     ]
    }
   ],
   "source": [
    "n=153\n",
    "sum=0\n",
    "temp=n\n",
    "while n>0:\n",
    "    rem = n%10\n",
    "    sum += rem**3\n",
    "    n=n//10\n",
    "if (sum==temp):\n",
    "    print(\"Armstrong\")\n",
    "else:\n",
    "    print (\"Not a Armstrong\")   "
   ]
  },
  {
   "cell_type": "code",
   "execution_count": null,
   "metadata": {},
   "outputs": [],
   "source": []
  }
 ],
 "metadata": {
  "kernelspec": {
   "display_name": "base",
   "language": "python",
   "name": "python3"
  },
  "language_info": {
   "codemirror_mode": {
    "name": "ipython",
    "version": 3
   },
   "file_extension": ".py",
   "mimetype": "text/x-python",
   "name": "python",
   "nbconvert_exporter": "python",
   "pygments_lexer": "ipython3",
   "version": "3.12.9"
  }
 },
 "nbformat": 4,
 "nbformat_minor": 2
}
