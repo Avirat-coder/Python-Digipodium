{
 "cells": [
  {
   "cell_type": "code",
   "execution_count": 2,
   "metadata": {},
   "outputs": [
    {
     "name": "stdout",
     "output_type": "stream",
     "text": [
      "['drive', 'chrome', 'swiggy', 'zomato', 'instagram', 'linkedin', 'snapchat', 'uber', 'rapido', 'chalo']\n"
     ]
    }
   ],
   "source": [
    "apps=['drive','chrome','swiggy','zomato','instagram','linkedin','snapchat','uber','rapido','chalo']\n",
    "print(apps)"
   ]
  },
  {
   "cell_type": "code",
   "execution_count": 3,
   "metadata": {},
   "outputs": [
    {
     "name": "stdout",
     "output_type": "stream",
     "text": [
      "['swiggy', 'zomato', 'instagram', 'linkedin']\n",
      "['swiggy', 'instagram', 'snapchat', 'rapido']\n",
      "['linkedin', 'snapchat', 'uber']\n"
     ]
    }
   ],
   "source": [
    "apps=['drive','chrome','swiggy','zomato','instagram','linkedin','snapchat','uber','rapido','chalo']\n",
    "print(apps[2:6])\n",
    "print(apps[2:9:2])\n",
    "print(apps[-5:-2])"
   ]
  },
  {
   "cell_type": "code",
   "execution_count": 4,
   "metadata": {},
   "outputs": [
    {
     "name": "stdout",
     "output_type": "stream",
     "text": [
      "6\n",
      "6\n"
     ]
    }
   ],
   "source": [
    "a=[2,4,6,8,10,12,14,16,20]\n",
    "print(a[2])\n",
    "print(a[-7])"
   ]
  },
  {
   "cell_type": "markdown",
   "metadata": {},
   "source": [
    "List Method\n",
    "- append - to add element at the end of the list\n",
    "- insert - to add element at specific position \n",
    "- pop - to delete an element using the index\n",
    "- remove - to delete an element using element name\n",
    "- copy - to make a copy of the list\n",
    "- clear - to delete all items of the list but not the list\n",
    "- sort - to arrange items in the particular order\n",
    "- extend - to combine two lists into one list"
   ]
  },
  {
   "cell_type": "code",
   "execution_count": 16,
   "metadata": {},
   "outputs": [
    {
     "name": "stdout",
     "output_type": "stream",
     "text": [
      "['Facebook', 'chrome', 'drive', 'gmail', 'instagram', 'linkedin', 'rapido', 'swiggy', 'uber', 'zomato', 'whatsapp', 'snapchat', 'facebook', 'facebook', 'facebook']\n"
     ]
    }
   ],
   "source": [
    "apps.append('facebook')#append\n",
    "print(apps)"
   ]
  },
  {
   "cell_type": "code",
   "execution_count": 6,
   "metadata": {},
   "outputs": [
    {
     "name": "stdout",
     "output_type": "stream",
     "text": [
      "['drive', 'chrome', 'gmail', 'swiggy', 'zomato', 'instagram', 'linkedin', 'snapchat', 'uber', 'rapido', 'chalo', 'Facebook']\n"
     ]
    }
   ],
   "source": [
    "apps.insert(2,\"gmail\")\n",
    "print(apps)"
   ]
  },
  {
   "cell_type": "code",
   "execution_count": 7,
   "metadata": {},
   "outputs": [
    {
     "name": "stdout",
     "output_type": "stream",
     "text": [
      "['drive', 'chrome', 'gmail', 'swiggy', 'zomato', 'instagram', 'linkedin', 'uber', 'rapido', 'chalo', 'Facebook']\n"
     ]
    }
   ],
   "source": [
    "apps.pop(7)\n",
    "print(apps)"
   ]
  },
  {
   "cell_type": "code",
   "execution_count": 8,
   "metadata": {},
   "outputs": [
    {
     "name": "stdout",
     "output_type": "stream",
     "text": [
      "['drive', 'chrome', 'gmail', 'swiggy', 'zomato', 'instagram', 'linkedin', 'uber', 'rapido', 'Facebook']\n"
     ]
    }
   ],
   "source": [
    "apps.remove(\"chalo\")\n",
    "print(apps)"
   ]
  },
  {
   "cell_type": "code",
   "execution_count": 22,
   "metadata": {},
   "outputs": [
    {
     "name": "stdout",
     "output_type": "stream",
     "text": [
      "['chrome', 'drive', 'facebook', 'gmail', 'instagram', 'linkedin', 'rapido', 'snapchat', 'swiggy', 'uber', 'whatsapp', 'zomato']\n"
     ]
    }
   ],
   "source": [
    "apps.remove(\"facebook\")\n",
    "print(apps)"
   ]
  },
  {
   "cell_type": "code",
   "execution_count": 9,
   "metadata": {},
   "outputs": [
    {
     "name": "stdout",
     "output_type": "stream",
     "text": [
      "['drive', 'chrome', 'gmail', 'swiggy', 'zomato', 'instagram', 'linkedin', 'uber', 'rapido', 'Facebook']\n"
     ]
    }
   ],
   "source": [
    "a= apps.copy()\n",
    "print (a)"
   ]
  },
  {
   "cell_type": "code",
   "execution_count": 10,
   "metadata": {},
   "outputs": [
    {
     "name": "stdout",
     "output_type": "stream",
     "text": [
      "[]\n"
     ]
    }
   ],
   "source": [
    "a.clear()\n",
    "print(a)"
   ]
  },
  {
   "cell_type": "code",
   "execution_count": 23,
   "metadata": {},
   "outputs": [
    {
     "name": "stdout",
     "output_type": "stream",
     "text": [
      "['chrome', 'drive', 'facebook', 'gmail', 'instagram', 'linkedin', 'rapido', 'snapchat', 'swiggy', 'uber', 'whatsapp', 'zomato']\n"
     ]
    }
   ],
   "source": [
    "apps.sort()\n",
    "print(apps)"
   ]
  },
  {
   "cell_type": "code",
   "execution_count": 24,
   "metadata": {},
   "outputs": [
    {
     "name": "stdout",
     "output_type": "stream",
     "text": [
      "['chrome', 'drive', 'facebook', 'gmail', 'instagram', 'linkedin', 'rapido', 'snapchat', 'swiggy', 'uber', 'whatsapp', 'zomato', 'whatsapp', 'snapchat']\n"
     ]
    }
   ],
   "source": [
    "apps2=[\"whatsapp\",\"snapchat\"]\n",
    "apps.extend(apps2)\n",
    "print(apps)"
   ]
  },
  {
   "cell_type": "code",
   "execution_count": 13,
   "metadata": {},
   "outputs": [
    {
     "name": "stdout",
     "output_type": "stream",
     "text": [
      "['whatsapp', 'snapchat', 'Facebook', 'chrome', 'drive', 'gmail', 'instagram', 'linkedin', 'rapido', 'swiggy', 'uber', 'zomato', 'whatsapp', 'snapchat']\n"
     ]
    }
   ],
   "source": [
    "apps2.extend(apps)\n",
    "print(apps2)"
   ]
  }
 ],
 "metadata": {
  "kernelspec": {
   "display_name": "base",
   "language": "python",
   "name": "python3"
  },
  "language_info": {
   "codemirror_mode": {
    "name": "ipython",
    "version": 3
   },
   "file_extension": ".py",
   "mimetype": "text/x-python",
   "name": "python",
   "nbconvert_exporter": "python",
   "pygments_lexer": "ipython3",
   "version": "3.12.9"
  }
 },
 "nbformat": 4,
 "nbformat_minor": 2
}
