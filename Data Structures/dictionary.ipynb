{
 "cells": [
  {
   "cell_type": "code",
   "execution_count": 36,
   "metadata": {},
   "outputs": [
    {
     "name": "stdout",
     "output_type": "stream",
     "text": [
      "{'name': 'John', 'age': 25, 'course': 'Python', 'marks': 78}\n"
     ]
    }
   ],
   "source": [
    "student = {\n",
    "    \"name\": \"John\",\n",
    "    \"age\" :25,\n",
    "    \"course\" :\"Python\",\n",
    "    \"marks\":78\n",
    "}\n",
    "print(student)"
   ]
  },
  {
   "cell_type": "code",
   "execution_count": 37,
   "metadata": {},
   "outputs": [
    {
     "name": "stdout",
     "output_type": "stream",
     "text": [
      "{'name': 'John', 'age': 25, 'course': 'Python', 'marks': 78}\n"
     ]
    }
   ],
   "source": [
    "info =dict(name = \"John\", age = 25, course =  \"Python\", marks = 78)\n",
    "print(info)"
   ]
  },
  {
   "cell_type": "code",
   "execution_count": 50,
   "metadata": {},
   "outputs": [
    {
     "name": "stdout",
     "output_type": "stream",
     "text": [
      "{'name': 'Avirat', 'age': 20, 'course': 'Python', 'marks': 69}\n"
     ]
    }
   ],
   "source": [
    "info=dict(name=input(\"Enter Your Name: \"),age=int(input(\"Enter Your age: \")),course=input(\"Enter your course: \"),marks=int(input(\"Enter your marks\")))\n",
    "print(info)"
   ]
  },
  {
   "cell_type": "code",
   "execution_count": null,
   "metadata": {},
   "outputs": [
    {
     "name": "stdout",
     "output_type": "stream",
     "text": [
      "{'lucknow': [32, 36, 38], 'kanpur': [35, 37, 40], 'delhi': [36, 37, 40]}\n"
     ]
    }
   ],
   "source": [
    "temp = {\n",
    "    'lucknow' : [32,36,38],\n",
    "    'kanpur' : [35,37,40],\n",
    "    'delhi'  :[36,37,40]\n",
    "}\n",
    "print(temp)"
   ]
  },
  {
   "cell_type": "code",
   "execution_count": null,
   "metadata": {},
   "outputs": [
    {
     "name": "stdout",
     "output_type": "stream",
     "text": [
      "John\n",
      "25\n"
     ]
    }
   ],
   "source": [
    "#1st method to access values through keys\n",
    "print(student['name'])\n",
    "print(student['age'])"
   ]
  },
  {
   "cell_type": "code",
   "execution_count": null,
   "metadata": {},
   "outputs": [
    {
     "name": "stdout",
     "output_type": "stream",
     "text": [
      "Python\n",
      "25\n"
     ]
    }
   ],
   "source": [
    "#2nd method to access value through keys\n",
    "print(student.get(\"course\"))\n",
    "print(student.get(\"age\"))"
   ]
  },
  {
   "cell_type": "code",
   "execution_count": null,
   "metadata": {},
   "outputs": [
    {
     "name": "stdout",
     "output_type": "stream",
     "text": [
      "{'name': 'John', 'age': 25, 'course': 'Python', 'marks': 78, 'city': 'Lucknow'}\n"
     ]
    }
   ],
   "source": [
    "# to add items in dictionary\n",
    "student['city']='Lucknow'\n",
    "print(student)"
   ]
  },
  {
   "cell_type": "code",
   "execution_count": null,
   "metadata": {},
   "outputs": [
    {
     "name": "stdout",
     "output_type": "stream",
     "text": [
      "dict_keys(['name', 'age', 'course', 'marks', 'city'])\n",
      "dict_values(['John', 25, 'Python', 78, 'Lucknow'])\n",
      "dict_items([('name', 'John'), ('age', 25), ('course', 'Python'), ('marks', 78), ('city', 'Lucknow')])\n"
     ]
    }
   ],
   "source": [
    "print(student.keys())\n",
    "print(student.values())\n",
    "print(student.items())"
   ]
  },
  {
   "cell_type": "code",
   "execution_count": null,
   "metadata": {},
   "outputs": [
    {
     "name": "stdout",
     "output_type": "stream",
     "text": [
      "name:John\n",
      "age:25\n",
      "course:Python\n",
      "marks:78\n",
      "city:Lucknow\n"
     ]
    }
   ],
   "source": [
    "for k,v in student.items():\n",
    "  print(f'{k}:{v}')    \n",
    "    "
   ]
  },
  {
   "cell_type": "code",
   "execution_count": null,
   "metadata": {},
   "outputs": [
    {
     "name": "stdout",
     "output_type": "stream",
     "text": [
      "sum of 10 and 35 is 45\n",
      "sum of 10 and 35 is 45\n"
     ]
    }
   ],
   "source": [
    "a=10\n",
    "b=35\n",
    "sum = a+b\n",
    "print(\"sum of\",a,\"and\",b,\"is\",sum)\n",
    "print(f'sum of {a} and {b} is {sum}')"
   ]
  },
  {
   "cell_type": "code",
   "execution_count": 39,
   "metadata": {},
   "outputs": [
    {
     "name": "stdout",
     "output_type": "stream",
     "text": [
      "{'emp001': {'name': 'Vaibhav', 'age': 20, 'dept': 'IT', 'salary': 25000}, 'emp002': {'name': 'Arpit', 'age': 20, 'dept': 'IT', 'salary': 26000}, 'emp003': {'name': 'Haider', 'age': 20, 'dept': 'IT', 'salary': 26000}}\n"
     ]
    }
   ],
   "source": [
    "company={\n",
    "    'emp001':{\n",
    "        'name': 'Vaibhav',\n",
    "        'age':20,\n",
    "        'dept':'IT',\n",
    "        'salary':25000\n",
    "    },\n",
    "    'emp002':{\n",
    "        'name':\"Arpit\",\n",
    "        'age':20,\n",
    "        'dept':'IT',\n",
    "        'salary':26000\n",
    "    },\n",
    "    'emp003':{\n",
    "        'name':\"Haider\",\n",
    "        'age':20,\n",
    "        'dept':'IT',\n",
    "        'salary':26000\n",
    "    }\n",
    "   \n",
    "}\n",
    "print(company)    "
   ]
  },
  {
   "cell_type": "code",
   "execution_count": 41,
   "metadata": {},
   "outputs": [],
   "source": [
    "from pprint import pprint"
   ]
  },
  {
   "cell_type": "code",
   "execution_count": 42,
   "metadata": {},
   "outputs": [
    {
     "name": "stdout",
     "output_type": "stream",
     "text": [
      "{'emp001': {'age': 20, 'dept': 'IT', 'name': 'Vaibhav', 'salary': 25000},\n",
      " 'emp002': {'age': 20, 'dept': 'IT', 'name': 'Arpit', 'salary': 26000},\n",
      " 'emp003': {'age': 20, 'dept': 'IT', 'name': 'Haider', 'salary': 26000}}\n"
     ]
    }
   ],
   "source": [
    "pprint(company)"
   ]
  },
  {
   "cell_type": "code",
   "execution_count": 49,
   "metadata": {},
   "outputs": [
    {
     "name": "stdout",
     "output_type": "stream",
     "text": [
      "20\n"
     ]
    }
   ],
   "source": [
    "print(company['emp002']['age'])"
   ]
  },
  {
   "cell_type": "code",
   "execution_count": 2,
   "metadata": {},
   "outputs": [
    {
     "ename": "NameError",
     "evalue": "name 'temp' is not defined",
     "output_type": "error",
     "traceback": [
      "\u001b[1;31m---------------------------------------------------------------------------\u001b[0m",
      "\u001b[1;31mNameError\u001b[0m                                 Traceback (most recent call last)",
      "Cell \u001b[1;32mIn[2], line 1\u001b[0m\n\u001b[1;32m----> 1\u001b[0m \u001b[38;5;28mprint\u001b[39m(\u001b[38;5;28msum\u001b[39m(\u001b[43mtemp\u001b[49m[\u001b[38;5;124m'\u001b[39m\u001b[38;5;124mlucknow\u001b[39m\u001b[38;5;124m'\u001b[39m])\u001b[38;5;241m/\u001b[39m\u001b[38;5;28mlen\u001b[39m(temp[\u001b[38;5;124m'\u001b[39m\u001b[38;5;124mlucknow\u001b[39m\u001b[38;5;124m'\u001b[39m]))\n",
      "\u001b[1;31mNameError\u001b[0m: name 'temp' is not defined"
     ]
    }
   ],
   "source": [
    "\n",
    "print(sum(temp['lucknow'])/len(temp['lucknow']))\n",
    "\n"
   ]
  }
 ],
 "metadata": {
  "kernelspec": {
   "display_name": "base",
   "language": "python",
   "name": "python3"
  },
  "language_info": {
   "codemirror_mode": {
    "name": "ipython",
    "version": 3
   },
   "file_extension": ".py",
   "mimetype": "text/x-python",
   "name": "python",
   "nbconvert_exporter": "python",
   "pygments_lexer": "ipython3",
   "version": "3.12.9"
  }
 },
 "nbformat": 4,
 "nbformat_minor": 2
}
