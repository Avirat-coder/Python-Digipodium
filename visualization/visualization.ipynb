{
 "cells": [
  {
   "cell_type": "code",
   "execution_count": 4,
   "metadata": {},
   "outputs": [],
   "source": [
    "import matplotlib as plt"
   ]
  },
  {
   "cell_type": "code",
   "execution_count": 1,
   "metadata": {},
   "outputs": [
    {
     "ename": "NameError",
     "evalue": "name 'plt' is not defined",
     "output_type": "error",
     "traceback": [
      "\u001b[1;31m---------------------------------------------------------------------------\u001b[0m",
      "\u001b[1;31mNameError\u001b[0m                                 Traceback (most recent call last)",
      "Cell \u001b[1;32mIn[1], line 2\u001b[0m\n\u001b[0;32m      1\u001b[0m \u001b[38;5;66;03m#creating a Figure and Axes\u001b[39;00m\n\u001b[1;32m----> 2\u001b[0m fig, ax\u001b[38;5;241m=\u001b[39m\u001b[43mplt\u001b[49m\u001b[38;5;241m.\u001b[39msubplots()\n\u001b[0;32m      3\u001b[0m \u001b[38;5;66;03m#setting the background color\u001b[39;00m\n\u001b[0;32m      4\u001b[0m fig\u001b[38;5;241m.\u001b[39mset_facecolor(\u001b[38;5;124m'\u001b[39m\u001b[38;5;124mgrey\u001b[39m\u001b[38;5;124m'\u001b[39m)\n",
      "\u001b[1;31mNameError\u001b[0m: name 'plt' is not defined"
     ]
    }
   ],
   "source": [
    "#creating a Figure and Axes\n",
    "fig, ax=plt.subplots()\n",
    "#setting the background color\n",
    "fig.set_facecolor('grey')\n",
    "ax.set_facecolor('yellow')\n",
    "#plotting the data\n",
    "x = [1,2,3,4,5,6,7,8,9,10]\n",
    "y=[23,56,67,34,12,56,23,67,89,12]\n",
    "ax.plot(x,y, \n",
    "        marker = 'o',\n",
    "        markersize = 5,\n",
    "        linenstyle = ':',\n",
    "        color='red', \n",
    "        linewidth=2,\n",
    "        markerfacecolor='blue',\n",
    "        markeredgecolor='black',\n",
    "        alpha = 0.8,)\n",
    "\n",
    "\n",
    "\n",
    "\n",
    "\n"
   ]
  }
 ],
 "metadata": {
  "kernelspec": {
   "display_name": "base",
   "language": "python",
   "name": "python3"
  },
  "language_info": {
   "codemirror_mode": {
    "name": "ipython",
    "version": 3
   },
   "file_extension": ".py",
   "mimetype": "text/x-python",
   "name": "python",
   "nbconvert_exporter": "python",
   "pygments_lexer": "ipython3",
   "version": "3.12.9"
  }
 },
 "nbformat": 4,
 "nbformat_minor": 2
}
