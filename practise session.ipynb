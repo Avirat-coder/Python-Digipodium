{
 "cells": [
  {
   "cell_type": "code",
   "execution_count": 2,
   "metadata": {},
   "outputs": [
    {
     "name": "stdout",
     "output_type": "stream",
     "text": [
      "212.0\n"
     ]
    }
   ],
   "source": [
    "a=int(input(\"Enter the temperaure in celsius\"))\n",
    "b =9/5*a +32\n",
    "print(b)"
   ]
  },
  {
   "cell_type": "code",
   "execution_count": 8,
   "metadata": {},
   "outputs": [
    {
     "name": "stdout",
     "output_type": "stream",
     "text": [
      "B  is maximum\n"
     ]
    }
   ],
   "source": [
    "a=int(input(\"Enter The  first number\"))\n",
    "b=int(input(\"Enter The  second  number\"))\n",
    "c=int(input(\"Enter The  third number\"))\n",
    "if (a>b and a>c):\n",
    "    print(\"A is maxiumum\")\n",
    "elif(b>c and b>a):\n",
    "    print(\"B  is maximum\") \n",
    "elif(c>a and c>b):\n",
    "    print( \"C  is maximum\")       "
   ]
  },
  {
   "cell_type": "code",
   "execution_count": 9,
   "metadata": {},
   "outputs": [
    {
     "name": "stdout",
     "output_type": "stream",
     "text": [
      "0.001735891932836763\n"
     ]
    }
   ],
   "source": [
    "a=int(input(\"Enter weight of the body\"))\n",
    "b=int(input(\"Enter the height of the body\"))\n",
    "c=a/b**2\n",
    "print(c)"
   ]
  }
 ],
 "metadata": {
  "kernelspec": {
   "display_name": "base",
   "language": "python",
   "name": "python3"
  },
  "language_info": {
   "codemirror_mode": {
    "name": "ipython",
    "version": 3
   },
   "file_extension": ".py",
   "mimetype": "text/x-python",
   "name": "python",
   "nbconvert_exporter": "python",
   "pygments_lexer": "ipython3",
   "version": "3.12.9"
  }
 },
 "nbformat": 4,
 "nbformat_minor": 2
}
